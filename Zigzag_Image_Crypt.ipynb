{
  "nbformat": 4,
  "nbformat_minor": 0,
  "metadata": {
    "colab": {
      "name": "Zigzag Image Crypt",
      "provenance": [],
      "collapsed_sections": []
    },
    "kernelspec": {
      "name": "python3",
      "display_name": "Python 3"
    }
  },
  "cells": [
    {
      "cell_type": "code",
      "metadata": {
        "id": "gVRd_T4QA_0G",
        "colab_type": "code",
        "colab": {}
      },
      "source": [
        "import cv2\n",
        "from numpy import array\n",
        "import numpy as np\n",
        "import pandas as pd\n",
        "import os\n",
        "import random\n",
        "from PIL import Image"
      ],
      "execution_count": null,
      "outputs": []
    },
    {
      "cell_type": "code",
      "metadata": {
        "id": "ynyP5TmtBGez",
        "colab_type": "code",
        "colab": {}
      },
      "source": [
        "sbox1 =  [14, 4,  13, 1,  2,  15, 11, 8,  3,  10, 6,  12, 5,  9,  0,  7,\n",
        "        0,  15, 7,  4,  14, 2,  13, 1,  10, 6,  12, 11, 9,  5,  3,  8,\n",
        "        4,  1,  14, 8,  13, 6,  2,  11, 15, 12, 9,  7,  3,  10, 5,  0,\n",
        "        15, 12, 8,  2,  4,  9,  1,  7,  5,  11, 3,  14, 10, 0,  6,  13]\n",
        "      \n",
        "\n",
        "      #DES SBOXLAR"
      ],
      "execution_count": null,
      "outputs": []
    },
    {
      "cell_type": "code",
      "metadata": {
        "id": "rxnW4VCyBf2d",
        "colab_type": "code",
        "colab": {}
      },
      "source": [
        "sbox2 =  [15, 1,  8,  14, 6,  11, 3,  4,  9,  7,  2,  13, 12, 0,  5,  10,\n",
        "        3,  13, 4,  7,  15, 2,  8,  14, 12, 0,  1,  10, 6,  9,  11, 5,\n",
        "        0,  14, 7,  11, 10, 4,  13, 1,  5,  8,  12, 6,  9,  3,  2,  15,\n",
        "        13, 8,  10, 1,  3,  15, 4,  2,  11, 6,  7,  12, 0,  5,  14, 9]\n",
        "      "
      ],
      "execution_count": null,
      "outputs": []
    },
    {
      "cell_type": "code",
      "metadata": {
        "id": "OS8YDWFaBbAl",
        "colab_type": "code",
        "colab": {}
      },
      "source": [
        "sbox3 =  [10, 0,  9,  14, 6,  3,  15, 5,  1,  13, 12, 7,  11, 4,  2,  8,\n",
        "        13, 7,  0,  9,  3,  4,  6,  10, 2,  8,  5,  14, 12, 11, 15, 1,\n",
        "        13, 6,  4,  9,  8,  15, 3,  0,  11, 1,  2,  12, 5,  10, 14, 7,\n",
        "        1,  10, 13, 0,  6,  9,  8,  7,  4,  15, 14, 3,  11, 5,  2,  12]\n",
        "      "
      ],
      "execution_count": null,
      "outputs": []
    },
    {
      "cell_type": "code",
      "metadata": {
        "id": "r5DM_qsfBh86",
        "colab_type": "code",
        "colab": {}
      },
      "source": [
        "sbox4 =  [7,  13, 14, 3,  0,  6,  9,  10, 1,  2,  8,  5,  11, 12, 4,  15,\n",
        "        13, 8,  11, 5,  6,  15, 0,  3,  4,  7,  2,  12, 1,  10, 14, 9,\n",
        "        10, 6,  9,  0,  12, 11, 7,  13, 15, 1,  3,  14, 5,  2,  8,  4,\n",
        "        3,  15, 0,  6,  10, 1,  13, 8,  9,  4,  5,  11, 12, 7,  2,  14]\n",
        "      "
      ],
      "execution_count": null,
      "outputs": []
    },
    {
      "cell_type": "code",
      "metadata": {
        "id": "_P0coiguBiPs",
        "colab_type": "code",
        "colab": {}
      },
      "source": [
        "sbox5 =  [2,  12, 4,  1,  7,  10, 11, 6,  8,  5,  3,  15, 13, 0,  14, 9,\n",
        "        14, 11, 2,  12, 4,  7,  13, 1,  5,  0,  15, 10, 3,  9,  8,  6,\n",
        "        4,  2,  1,  11, 10, 13, 7,  8,  15, 9,  12, 5,  6,  3,  0,  14,\n",
        "        11, 8,  12, 7,  1,  14, 2,  13, 6,  15, 0,  9,  10, 4,  5,  3]\n",
        "      "
      ],
      "execution_count": null,
      "outputs": []
    },
    {
      "cell_type": "code",
      "metadata": {
        "id": "szgTQVW_BiZ_",
        "colab_type": "code",
        "colab": {}
      },
      "source": [
        "sbox6 =  [12, 1,  10, 15, 9,  2,  6,  8,  0,  13, 3,  4,  14, 7,  5,  11,\n",
        "        10, 15, 4,  2,  7,  12, 9,  5,  6,  1,  13, 14, 0,  11, 3,  8,\n",
        "        9,  14, 15, 5,  2,  8,  12, 3,  7,  0,  4,  10, 1,  13, 11, 6,\n",
        "        4,  3,  2,  12, 9,  5,  15, 10, 11, 14, 1,  7,  6,  0,  8,  13]\n",
        "      "
      ],
      "execution_count": null,
      "outputs": []
    },
    {
      "cell_type": "code",
      "metadata": {
        "id": "EbRzZ5dVBii9",
        "colab_type": "code",
        "colab": {}
      },
      "source": [
        "sbox7 =  [4,  11,  2, 14, 15, 0,  8,  13, 3,  12, 9,  7,  5,  10, 6,  1,\n",
        "        13, 0,  11, 7,  4,  9,  1,  10, 14, 3,  5,  12, 2,  15, 8,  6,\n",
        "        1,  4,  11, 13, 12, 3,  7,  14, 10, 15, 6,  8,  0,  5,  9,  2,\n",
        "        6,  11, 13, 8,  1,  4,  10, 7,  9,  5,  0,  15, 14, 2,  3,  12]\n",
        "      "
      ],
      "execution_count": null,
      "outputs": []
    },
    {
      "cell_type": "code",
      "metadata": {
        "id": "-ah671ICBivg",
        "colab_type": "code",
        "colab": {}
      },
      "source": [
        "sbox8 =  [13, 2,  8,  4,  6,  15, 11, 1,  10, 9,  3,  14, 5,  0,  12, 7,\n",
        "        1,  15, 13, 8,  10, 3,  7,  4,  12, 5,  6,  11, 0,  14, 9,  2,\n",
        "        7,  11, 4,  1,  9,  12, 14, 2,  0,  6,  10, 13, 15, 3,  5,  8,\n",
        "        2,  1,  14, 7,  4,  10, 8,  13, 15, 12, 9,  0,  3,  5,  6,  11]\n",
        "      "
      ],
      "execution_count": null,
      "outputs": []
    },
    {
      "cell_type": "code",
      "metadata": {
        "id": "rWyCAXp9B8_k",
        "colab_type": "code",
        "colab": {}
      },
      "source": [
        "INITIAL_PERMUTATION  =   [57, 49, 41, 33, 25, 17, 9,  1,\n",
        "                          59, 51, 43, 35, 27, 19, 11, 3,\n",
        "                          61, 53, 45, 37, 29, 21, 13, 5,\n",
        "                          63, 55, 47, 39, 31, 23, 15, 7,\n",
        "                          56, 48, 40, 32, 24, 16, 8,  0,\n",
        "                          58, 50, 42, 34, 26, 18, 10, 2,\n",
        "                          60, 52, 44, 36, 28, 20, 12, 4,\n",
        "                          62, 54, 46, 38, 30, 22, 14, 6]        \n",
        "\n",
        "                          #Des Permutasyon tablosu"
      ],
      "execution_count": null,
      "outputs": []
    },
    {
      "cell_type": "code",
      "metadata": {
        "id": "ivT7iJ6ZLQMF",
        "colab_type": "code",
        "colab": {}
      },
      "source": [
        "AESsbox =  [0x63, 0x7c, 0x77, 0x7b, 0xf2, 0x6b, 0x6f, 0xc5, 0x30, 0x01, 0x67,\n",
        "            0x2b, 0xfe, 0xd7, 0xab, 0x76, 0xca, 0x82, 0xc9, 0x7d, 0xfa, 0x59,\n",
        "            0x47, 0xf0, 0xad, 0xd4, 0xa2, 0xaf, 0x9c, 0xa4, 0x72, 0xc0, 0xb7,\n",
        "            0xfd, 0x93, 0x26, 0x36, 0x3f, 0xf7, 0xcc, 0x34, 0xa5, 0xe5, 0xf1,\n",
        "            0x71, 0xd8, 0x31, 0x15, 0x04, 0xc7, 0x23, 0xc3, 0x18, 0x96, 0x05,\n",
        "            0x9a, 0x07, 0x12, 0x80, 0xe2, 0xeb, 0x27, 0xb2, 0x75, 0x09, 0x83,\n",
        "            0x2c, 0x1a, 0x1b, 0x6e, 0x5a, 0xa0, 0x52, 0x3b, 0xd6, 0xb3, 0x29,\n",
        "            0xe3, 0x2f, 0x84, 0x53, 0xd1, 0x00, 0xed, 0x20, 0xfc, 0xb1, 0x5b,\n",
        "            0x6a, 0xcb, 0xbe, 0x39, 0x4a, 0x4c, 0x58, 0xcf, 0xd0, 0xef, 0xaa,\n",
        "            0xfb, 0x43, 0x4d, 0x33, 0x85, 0x45, 0xf9, 0x02, 0x7f, 0x50, 0x3c,\n",
        "            0x9f, 0xa8, 0x51, 0xa3, 0x40, 0x8f, 0x92, 0x9d, 0x38, 0xf5, 0xbc,\n",
        "            0xb6, 0xda, 0x21, 0x10, 0xff, 0xf3, 0xd2, 0xcd, 0x0c, 0x13, 0xec,\n",
        "            0x5f, 0x97, 0x44, 0x17, 0xc4, 0xa7, 0x7e, 0x3d, 0x64, 0x5d, 0x19,\n",
        "            0x73, 0x60, 0x81, 0x4f, 0xdc, 0x22, 0x2a, 0x90, 0x88, 0x46, 0xee,\n",
        "            0xb8, 0x14, 0xde, 0x5e, 0x0b, 0xdb, 0xe0, 0x32, 0x3a, 0x0a, 0x49,\n",
        "            0x06, 0x24, 0x5c, 0xc2, 0xd3, 0xac, 0x62, 0x91, 0x95, 0xe4, 0x79,\n",
        "            0xe7, 0xc8, 0x37, 0x6d, 0x8d, 0xd5, 0x4e, 0xa9, 0x6c, 0x56, 0xf4,\n",
        "            0xea, 0x65, 0x7a, 0xae, 0x08, 0xba, 0x78, 0x25, 0x2e, 0x1c, 0xa6,\n",
        "            0xb4, 0xc6, 0xe8, 0xdd, 0x74, 0x1f, 0x4b, 0xbd, 0x8b, 0x8a, 0x70,\n",
        "            0x3e, 0xb5, 0x66, 0x48, 0x03, 0xf6, 0x0e, 0x61, 0x35, 0x57, 0xb9,\n",
        "            0x86, 0xc1, 0x1d, 0x9e, 0xe1, 0xf8, 0x98, 0x11, 0x69, 0xd9, 0x8e,\n",
        "            0x94, 0x9b, 0x1e, 0x87, 0xe9, 0xce, 0x55, 0x28, 0xdf, 0x8c, 0xa1,\n",
        "            0x89, 0x0d, 0xbf, 0xe6, 0x42, 0x68, 0x41, 0x99, 0x2d, 0x0f, 0xb0,\n",
        "            0x54, 0xbb, 0x16]\n",
        "\n",
        "sboxList = list()\n",
        "\n",
        "for item in AESsbox:\n",
        "  sboxList.append(hex(item).split('x')[-1])\n",
        "\n",
        "aes_boxArry = np.array(sboxList)\n",
        "aes_boxArry = aes_boxArry.reshape(16,16)\n",
        "#s_boxArry\n",
        "\n",
        "#Aes sbox tablosu, burada tablodaki 0x leri atarak düzgün hale getirip daha sonra 16,16 bir matris haline getirdik."
      ],
      "execution_count": null,
      "outputs": []
    },
    {
      "cell_type": "markdown",
      "metadata": {
        "id": "EC80SU8Q4M6F",
        "colab_type": "text"
      },
      "source": [
        "**Def ile başlayan bütün tanımlamalar bir fonksiyon. Şimdi tanıtıyoruz sadece aşağıda kullanacağız.**"
      ]
    },
    {
      "cell_type": "code",
      "metadata": {
        "id": "KD84OSPKHKEc",
        "colab_type": "code",
        "colab": {}
      },
      "source": [
        "def permutate(table, block):\n",
        "\t\treturn w\n",
        "\t\n",
        "\t#Bu fonksiyon des permütasyon tablosu ile verilen 64-bitlik bloğu karma işlemi yapıyor."
      ],
      "execution_count": null,
      "outputs": []
    },
    {
      "cell_type": "code",
      "metadata": {
        "id": "hQI49sVKUuPg",
        "colab_type": "code",
        "colab": {}
      },
      "source": [
        "def AesSboxMixColumn(a):\n",
        "  for index, item in enumerate(a):\n",
        "    aes_boxArry[:,index] = aes_boxArry[:,item]\n",
        "  \n",
        "  #Adından da anlaşılacağı gibi verilen a matrisine göre aes_sboxın kolon değerlernin yerlerini değiştiriyor.\n",
        "  #Orjinal tabloya elleme yeni tablo oluştur ordaki değerler ile yeni tabloyu kar."
      ],
      "execution_count": null,
      "outputs": []
    },
    {
      "cell_type": "code",
      "metadata": {
        "id": "qBKEYjaLUzsi",
        "colab_type": "code",
        "colab": {}
      },
      "source": [
        "def AesSboxMixRow(b):\n",
        "  for index, item in enumerate(b):\n",
        "    aes_boxArry[index] = aes_boxArry[item]\n",
        "\n",
        "  #Buda aynı adından da anlaşılacağı gibi verilen a matrisine göre aes_sboxın satır değerlerinin yerlerini değiştiriyor."
      ],
      "execution_count": null,
      "outputs": []
    },
    {
      "cell_type": "code",
      "metadata": {
        "id": "-OW4YlEPN9JL",
        "colab_type": "code",
        "colab": {}
      },
      "source": [
        "def HextoDecimal(array):\n",
        "  array = array.reshape(256,)\n",
        "  for i,rows in enumerate (array):\n",
        "    array[i] = (int)(rows,16)\n",
        "  return array\n",
        "\n",
        "#Gerektiği yerde 16'lık tabandaki matrisleri 10'luk tabana çeviriyoruz. XOR işlemlerinde gerek oluyor genelde."
      ],
      "execution_count": null,
      "outputs": []
    },
    {
      "cell_type": "code",
      "metadata": {
        "id": "7Da88kZdaVPE",
        "colab_type": "code",
        "colab": {}
      },
      "source": [
        "def fillMissPixel(image):\n",
        "  remainMod = image.shape[0] % 256\n",
        "  missingArry = np.array(random.sample(range(0, 256), 256 - remainMod))\n",
        "  image = np.append(image,missingArry)\n",
        "  return image\n",
        "\n",
        "#Bu da eğer resmin pixelleri 256 'ya tam bölünmüyorsa onu onu tamamlamak için."
      ],
      "execution_count": null,
      "outputs": []
    },
    {
      "cell_type": "code",
      "metadata": {
        "id": "GBelZdGusTuK",
        "colab_type": "code",
        "colab": {}
      },
      "source": [
        "def desSboxMerge():\n",
        "  sbox1_T = np.array(sbox1).reshape(4,16).T\n",
        "  sbox2_T = np.array(sbox2).reshape(4,16).T\n",
        "  sbox3_T = np.array(sbox3).reshape(4,16).T\n",
        "  sbox4_T = np.array(sbox4).reshape(4,16).T\n",
        "  sbox5_T = np.array(sbox5).reshape(4,16).T\n",
        "  sbox6_T = np.array(sbox6).reshape(4,16).T\n",
        "  sbox7_T = np.array(sbox7).reshape(4,16).T\n",
        "  sbox8_T = np.array(sbox8).reshape(4,16).T\n",
        "  des_sbox = np.append(sbox1_T, np.append(sbox2_T, np.append(sbox3_T, np.append(sbox4_T,np.append( sbox5_T, np.append(sbox6_T, np.append(sbox7_T, sbox8_T, axis=1) ,axis=1) ,axis=1),axis=1) ,axis = 1) ,axis=1), axis=1)\n",
        "  return des_sbox\n",
        "\n",
        "# Bu fonksiyonda da yukardaki tanımladığımız 8 tane DES Sbox'ın transpozunu alıp yan yana birleştirme işlemini yapıyoruzç"
      ],
      "execution_count": null,
      "outputs": []
    },
    {
      "cell_type": "code",
      "metadata": {
        "id": "kCXKJjWfCNBh",
        "colab_type": "code",
        "colab": {}
      },
      "source": [
        "def imageReduceDim(image):\n",
        "  reduceImg = []\n",
        "  matrix = image\n",
        "\n",
        "  if(image.ndim < 3 ):\n",
        "    rows= image.shape[0]\n",
        "    columns= image.shape[1]\n",
        "  else:\n",
        "    rows= image.shape[0]\n",
        "    columns= image.shape[1] * image.shape[2]\n",
        "    matrix = matrix.reshape(matrix.shape[0], matrix.shape[1] * matrix.shape[2])\n",
        "      \n",
        "  solution=[[] for i in range(rows+columns-1)] \n",
        "    \n",
        "  for i in range(rows): \n",
        "      for j in range(columns): \n",
        "          sum=i+j \n",
        "          if(sum%2 ==0): \n",
        "              solution[sum].insert(0,matrix[i][j]) \n",
        "          else: \n",
        "              solution[sum].append(matrix[i][j]) \n",
        "                         \n",
        "  for i in solution: \n",
        "      for j in i: \n",
        "          reduceImg.append(j)\n",
        "  return np.array(reduceImg)\n",
        "\n",
        "  #Bu fonsiyon zigzag ile resmi tek boyutlu matrise indirgemek için kullanıyoruz."
      ],
      "execution_count": null,
      "outputs": []
    },
    {
      "cell_type": "code",
      "metadata": {
        "id": "g4CHduDtI9a6",
        "colab_type": "code",
        "colab": {}
      },
      "source": [
        "def imageEncrypt(image,InitializationVec):\n",
        "  for index,imgPixel in enumerate(image):\n",
        "    cipheredImage = np.bitwise_xor(InitializationVec, imgPixel)\n",
        "    for i in range(0,8):\n",
        "      des_Sbox = desSboxMerge()\n",
        "      a = des_Sbox[:,random.sample(range(0, 32),1)].reshape(16,) # --> Des_sboxda rastgele bir kolun seçme\n",
        "      AesSboxMixRow(a) #satır değiştime\n",
        "      cipheredImage = np.bitwise_xor(HextoDecimal(aes_boxArry.reshape(256,)).astype(np.int), cipheredImage.astype(np.int)) # XOR işlemi\n",
        "      key1 = np.array(random.sample(range(0, 256), 256))\n",
        "      cipheredImage = np.bitwise_xor(cipheredImage,key1)\n",
        "      b = des_Sbox[:,random.sample(range(0, 32),1)].reshape(16,)\n",
        "      AesSboxMixColumn(b) #sutun değiştime\n",
        "      cipheredImage = np.bitwise_xor(HextoDecimal(aes_boxArry.reshape(256,)).astype(np.int), cipheredImage.astype(np.int)) \n",
        "      key2 = np.array(random.sample(range(0, 256), 256))\n",
        "      cipheredImage = np.bitwise_xor(cipheredImage,key2)\n",
        "      cipheredImage = cipheredImage.reshape(4,64)\n",
        "      cipheredImage[i%4] = permutate((INITIAL_PERMUTATION),cipheredImage[i%4]) # Permute etme\n",
        "      cipheredImage = cipheredImage.reshape(256,)\n",
        "      image[index] = cipheredImage\n",
        "    InitializationVec = cipheredImage\n",
        "  return image\n",
        "\n",
        "#Asıl fonksiyon bu içirisinde neredeyse diğer tüm fonksiyolar var zaten. Adım adım işlemleri gerçekleştirip girişte verdiğimiz resmi çıkışta şifreli olarak alıyoruz.\n",
        "#Tek tek açıklamıyorum hepsi fonksiyon olduğu için o foksiyonarın işlevlerini yukarda yazdım."
      ],
      "execution_count": null,
      "outputs": []
    },
    {
      "cell_type": "code",
      "metadata": {
        "id": "W380YeCuVRIy",
        "colab_type": "code",
        "colab": {}
      },
      "source": [
        "#Read Image Use OpenCv\n",
        "image = cv2.imread(\"/content/sample_data/42.jpg\",cv2.COLOR_BGR2GRAY)"
      ],
      "execution_count": null,
      "outputs": []
    },
    {
      "cell_type": "code",
      "metadata": {
        "id": "H_g77keDH6yh",
        "colab_type": "code",
        "colab": {}
      },
      "source": [
        "imgX = image.shape[0]\n",
        "imgY = image.shape[1]\n",
        "if(image.ndim > 2):\n",
        "  imgZ = image.shape[2]\n",
        "  \n",
        "imgDim = image.ndim"
      ],
      "execution_count": null,
      "outputs": []
    },
    {
      "cell_type": "code",
      "metadata": {
        "id": "rjmOzKFpLVVn",
        "colab_type": "code",
        "colab": {}
      },
      "source": [
        "image = imageReduceDim(image) ##Resmin boyutu düşürüldü"
      ],
      "execution_count": null,
      "outputs": []
    },
    {
      "cell_type": "code",
      "metadata": {
        "id": "FLQnEEIwae_8",
        "colab_type": "code",
        "colab": {}
      },
      "source": [
        "if(image.size % 256 != 0):\n",
        "  image = fillMissPixel((image))  ##Eksik pixeller dolduruldu."
      ],
      "execution_count": null,
      "outputs": []
    },
    {
      "cell_type": "code",
      "metadata": {
        "id": "b14Ji1MpNtwm",
        "colab_type": "code",
        "colab": {}
      },
      "source": [
        "image = image.reshape((int)(image.size / 256),256) ##256 bitlik bloklara ayrıldı.\n"
      ],
      "execution_count": null,
      "outputs": []
    },
    {
      "cell_type": "code",
      "metadata": {
        "id": "XGL0FesMbiln",
        "colab_type": "code",
        "colab": {}
      },
      "source": [
        "IV = np.array(random.sample(range(0, 256), 256))  ## Giriş vektörü elde edildi."
      ],
      "execution_count": null,
      "outputs": []
    },
    {
      "cell_type": "code",
      "metadata": {
        "id": "UsY8l4jDPG8b",
        "colab_type": "code",
        "colab": {}
      },
      "source": [
        "encrytpImage = imageEncrypt(image,IV)  #Şifreli resim elde edildi."
      ],
      "execution_count": null,
      "outputs": []
    },
    {
      "cell_type": "code",
      "metadata": {
        "id": "eniQrLZKJuFG",
        "colab_type": "code",
        "colab": {
          "base_uri": "https://localhost:8080/",
          "height": 34
        },
        "outputId": "e67c3508-366d-42b1-ac6c-d9e0ae0720be"
      },
      "source": [
        "image.ndim"
      ],
      "execution_count": null,
      "outputs": [
        {
          "output_type": "execute_result",
          "data": {
            "text/plain": [
              "2"
            ]
          },
          "metadata": {
            "tags": []
          },
          "execution_count": 32
        }
      ]
    },
    {
      "cell_type": "code",
      "metadata": {
        "id": "z5y5jWppT6d9",
        "colab_type": "code",
        "colab": {}
      },
      "source": [
        "if(imgDim > 2):\n",
        "  encrytpImage  = encrytpImage.reshape(imgX,imgY,imgZ)  # Burada resmi tekrar eski haline boyutlandırdım.\n",
        "else:\n",
        "  encrytpImage  = encrytpImage.reshape(imgX,imgY) "
      ],
      "execution_count": null,
      "outputs": []
    },
    {
      "cell_type": "code",
      "metadata": {
        "id": "KLdXnQv0LTlO",
        "colab_type": "code",
        "colab": {}
      },
      "source": [
        "img = Image.fromarray(encrytpImage, 'RGB') ##Burada da şifreli resmi çıktı olarak aldım.\n",
        "img.save('my.png')\n",
        "img.show()"
      ],
      "execution_count": null,
      "outputs": []
    },
    {
      "cell_type": "code",
      "metadata": {
        "id": "DQkOl7ce_Sn9",
        "colab_type": "code",
        "colab": {}
      },
      "source": [
        ""
      ],
      "execution_count": null,
      "outputs": []
    }
  ]
}